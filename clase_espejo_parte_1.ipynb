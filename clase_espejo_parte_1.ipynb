{
  "nbformat": 4,
  "nbformat_minor": 0,
  "metadata": {
    "colab": {
      "provenance": []
    },
    "kernelspec": {
      "name": "python3",
      "display_name": "Python 3"
    },
    "language_info": {
      "name": "python"
    }
  },
  "cells": [
    {
      "cell_type": "code",
      "execution_count": 1,
      "metadata": {
        "colab": {
          "base_uri": "https://localhost:8080/"
        },
        "id": "fKjsh4vma44M",
        "outputId": "608d64be-8423-4a81-988f-49d28ee44626"
      },
      "outputs": [
        {
          "output_type": "stream",
          "name": "stdout",
          "text": [
            "Lista: [1, 2, 3, 4, 5]\n",
            "Tupla: (1, 2, 3)\n",
            "Diccionario: {'clave1': 'valor1', 'clave2': 'valor2'}\n",
            "Conjunto: {1, 2, 3, 4}\n",
            "Eres mayor de edad\n",
            "Número 1\n",
            "Número 2\n",
            "Número 3\n",
            "Número 4\n",
            "Contando: 0\n",
            "Contando: 1\n",
            "Contando: 2\n",
            "Datos en el DataFrame:\n",
            "   Nombre  Edad     Ciudad\n",
            "0     Ana    23     Madrid\n",
            "1    Luis    35  Barcelona\n",
            "2  Carlos    45    Sevilla\n",
            "3   Sofía    30   Valencia\n",
            "\n",
            "Solo las edades:\n",
            "0    23\n",
            "1    35\n",
            "2    45\n",
            "3    30\n",
            "Name: Edad, dtype: int64\n",
            "\n",
            "Personas mayores de 30:\n",
            "   Nombre  Edad     Ciudad\n",
            "1    Luis    35  Barcelona\n",
            "2  Carlos    45    Sevilla\n"
          ]
        }
      ],
      "source": [
        "# Estructuras de Datos en Python\n",
        "\n",
        "# Listas\n",
        "lista = [1, 2, 3, 4, 5]\n",
        "print(\"Lista:\", lista)\n",
        "\n",
        "# Tuplas\n",
        "tupla = (1, 2, 3)\n",
        "print(\"Tupla:\", tupla)\n",
        "\n",
        "# Diccionarios\n",
        "diccionario = {\"clave1\": \"valor1\", \"clave2\": \"valor2\"}\n",
        "print(\"Diccionario:\", diccionario)\n",
        "\n",
        "# Conjuntos\n",
        "conjunto = {1, 2, 3, 4}\n",
        "print(\"Conjunto:\", conjunto)\n",
        "\n",
        "# Control de Flujo\n",
        "\n",
        "# Condicionales\n",
        "edad = 18\n",
        "if edad >= 18:\n",
        "    print(\"Eres mayor de edad\")\n",
        "else:\n",
        "    print(\"Eres menor de edad\")\n",
        "\n",
        "# Bucle for\n",
        "for i in range(1, 5):\n",
        "    print(f\"Número {i}\")\n",
        "\n",
        "# Bucle while\n",
        "contador = 0\n",
        "while contador < 3:\n",
        "    print(\"Contando:\", contador)\n",
        "    contador += 1\n",
        "\n",
        "# Introducción a Pandas\n",
        "import pandas as pd\n",
        "\n",
        "# Crear un DataFrame de ejemplo\n",
        "datos = {\n",
        "    \"Nombre\": [\"Ana\", \"Luis\", \"Carlos\", \"Sofía\"],\n",
        "    \"Edad\": [23, 35, 45, 30],\n",
        "    \"Ciudad\": [\"Madrid\", \"Barcelona\", \"Sevilla\", \"Valencia\"]\n",
        "}\n",
        "df = pd.DataFrame(datos)\n",
        "\n",
        "# Mostrar el DataFrame\n",
        "print(\"Datos en el DataFrame:\")\n",
        "print(df)\n",
        "\n",
        "# Seleccionar una columna\n",
        "print(\"\\nSolo las edades:\")\n",
        "print(df[\"Edad\"])\n",
        "\n",
        "# Filtrar filas\n",
        "print(\"\\nPersonas mayores de 30:\")\n",
        "print(df[df[\"Edad\"] > 30])\n"
      ]
    },
    {
      "cell_type": "markdown",
      "source": [],
      "metadata": {
        "id": "-5N3HBdTa8_S"
      }
    }
  ]
}